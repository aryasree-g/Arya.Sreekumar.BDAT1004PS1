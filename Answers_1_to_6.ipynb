{
 "cells": [
  {
   "cell_type": "markdown",
   "id": "ea374a0d",
   "metadata": {},
   "source": [
    "// Question 1 Answer:\n",
    "\n",
    "  5   => int \n",
    "  5.0  => float\n",
    "  5>1  => bool\n",
    " '5'  => char\n",
    "  5*2  => int\n",
    " '5'*2 => int\n",
    " '5'+'2'=> char\n",
    "  5/2   => int\n",
    "  5%2   => float\n",
    "  {5,2,1}=> Array\n",
    "  5 ==3 => bool\n",
    "  Pi(no:)=> Double"
   ]
  },
  {
   "cell_type": "code",
   "execution_count": 56,
   "id": "a804ee39",
   "metadata": {},
   "outputs": [
    {
     "name": "stdout",
     "output_type": "stream",
     "text": [
      "a) Count of First string :34\n",
      "\n",
      "b) Ice is a substring of Supercalifragilisticexpialidocious\n",
      "\n",
      "c) Both First and Third are the longest strings\n",
      "\n",
      "d) Bartok comes first in dictionary\n",
      "   Buxtehude comes last in dictionary"
     ]
    }
   ],
   "source": [
    "// Question 2 Answer:\n",
    "\n",
    "string str1 = \"Supercalifragilisticexpialidocious\";   \n",
    "string str2 = \"Honorificabilitudinitatibus\";\n",
    "string str3 = \"Bababadalgharaghtakamminarronnkonn\";\n",
    "\n",
    "int totalChar = str1.Length;     \n",
    "Console.WriteLine(\"a) Count of First string :\" + totalChar + \"\\n\");\n",
    "\n",
    "\n",
    "if(str1.Contains(\"ice\") == true)\n",
    "   Console.WriteLine(\"b) Ice is a substring of \" + str1 + \"\\n\");\n",
    "else\n",
    "   Console.WriteLine(\"b) Ice is not a substring of\" + str1 + \"\\n\");   \n",
    "        \n",
    "Console.Write(\"c) \");\n",
    "Console.WriteLine(LongVal(str1,str2,str3));\n",
    "\n",
    "FirstLastElement();                   \n",
    "\n",
    "\n",
    "public string LongVal(string str1,string str2,string str3)\n",
    "{   \n",
    "    String longestVal;\n",
    "    int len1 = str1.Length; \n",
    "    int len2 = str2.Length; \n",
    "    int len3 = str3.Length; \n",
    "    \n",
    "    if(len1 > len2 && len1 > len3) \n",
    "       longestVal = str1;\n",
    "    else if (len2>len1 && len2 >len3)\n",
    "       longestVal = str2;\n",
    "    else if (len3>len1 && len3>len2) \n",
    "       longestVal = str3;\n",
    "    else {\n",
    "    \n",
    "      if(len1==len2)\n",
    "              \n",
    "         longestVal = \"Both First and Second are the longest strings\";\n",
    "       \n",
    "       else if(len3==len2)\n",
    "       \n",
    "         longestVal = \"Both Second and Third are the longest strings\";\n",
    "       \n",
    "       else\n",
    "       \n",
    "         longestVal = \"Both First and Third are the longest strings\";\n",
    "       \n",
    "       }\n",
    "     \n",
    "    return(longestVal);\n",
    "   }\n",
    "\n",
    "\n",
    "public void FirstLastElement()\n",
    "{\n",
    "    Console.Write(\"\\n\");\n",
    "    int i = 0;\n",
    "    List<string> name1 = new List<string>(){ \"Berlioz\", \"Borodin\", \"Brian\",\"Bartok\", \"Bellini\", \"Buxtehude\", \"Bernstein\" };\n",
    "    int index = name1.Count;\n",
    "    var sortedArray = name1.OrderBy(n => n);\n",
    "    Console.Write(\"d) \");\n",
    "    \n",
    "    foreach (string arr in sortedArray)\n",
    "    {\n",
    "        if(i == 0 )\n",
    "              Console.Write(arr + \" comes first in dictionary\"); \n",
    "        else if( i == index -1) \n",
    "        {\n",
    "           Console.Write(\"\\n\");\n",
    "           Console.Write(\"   \" + arr + \" comes last in dictionary\");       \n",
    "        }\n",
    "        \n",
    "        i++;      \n",
    "    }\n",
    "}"
   ]
  },
  {
   "cell_type": "code",
   "execution_count": 58,
   "id": "19033149",
   "metadata": {},
   "outputs": [
    {
     "name": "stdout",
     "output_type": "stream",
     "text": [
      "\n",
      "Area of the triangle = 1.7320508075688772\r\n"
     ]
    }
   ],
   "source": [
    "//Question 3 Answer\n",
    "\n",
    "triangleArea(2,2,2);\n",
    "\n",
    "public void triangleArea(int l1, int l2, int l3)\n",
    "{\n",
    "    double S = (l1 + l2 + l3) /2 ;\n",
    "    double Out = Math.Sqrt( S * (S - l1) * (S - l2) * (S - l3) );\n",
    "    Console.WriteLine(\"\\nArea of the triangle = \" + Out);\n",
    "}"
   ]
  },
  {
   "cell_type": "code",
   "execution_count": 55,
   "id": "88288941",
   "metadata": {},
   "outputs": [
    {
     "name": "stdout",
     "output_type": "stream",
     "text": [
      "Even elements are: 42 56 32 \n",
      "Odd elements are: 25 47 \n"
     ]
    }
   ],
   "source": [
    "//Question 4 Answer\n",
    "\n",
    "//Code for static array\n",
    "   int[] numbers = {25,47,42,56,32}; \n",
    "   int len = 5;\n",
    "\n",
    "//Code for dynamic array\n",
    "\n",
    "  //Console.WriteLine(\"Enter the number of elements in the array = \");\n",
    "  //int len = Convert.ToInt32(Console.ReadLine());\n",
    "  //int[] numbers = new int[len]; \n",
    "  //for (int i = 0; i < len; i++)\n",
    "  //{\n",
    "  //   Console.Write(\"Enter element - \" + i + \": \");\n",
    "  //   numbers[i] = Convert.ToInt32(Console.ReadLine());\n",
    "  //    Console.Write(\"\\n\");\n",
    "  //}\n",
    "// End of taking user input    \n",
    "    \n",
    "\n",
    "    int[] even = new int[len]; \n",
    "    int[] odd = new int[len];\n",
    "    int eIndex = 0;\n",
    "    int oIndex = 0;\n",
    "    \n",
    "    for (int i = 0; i < len; i++)\n",
    "    {\n",
    "        if (numbers[i] % 2 == 0)\n",
    "        {\n",
    "            even[eIndex] = numbers[i];\n",
    "            eIndex++;\n",
    "        }\n",
    "        else\n",
    "        {\n",
    "            odd[oIndex] = numbers[i];\n",
    "            oIndex++;\n",
    "        }\n",
    "    }\n",
    "   \n",
    "    Console.Write(\"Even elements are: \");\n",
    "    for (int i = 0; i < eIndex; i++)\n",
    "    {\n",
    "        Console.Write(even[i] + \" \");\n",
    "    }\n",
    "    Console.Write(\"\\n\");\n",
    "\n",
    "    Console.Write(\"Odd elements are: \");\n",
    "    for (int i = 0; i < oIndex; i++)\n",
    "    {\n",
    "        Console.Write(odd[i] + \" \");\n",
    "    }\n",
    "    Console.Write(\"\\n\");\n"
   ]
  },
  {
   "cell_type": "code",
   "execution_count": 46,
   "id": "e488f5a8",
   "metadata": {},
   "outputs": [],
   "source": []
  },
  {
   "cell_type": "code",
   "execution_count": 54,
   "id": "27612faf",
   "metadata": {},
   "outputs": [
    {
     "name": "stdout",
     "output_type": "stream",
     "text": [
      "=============================\n",
      "Output will be true if the given point lies in the rectangle else false\n",
      "=============================\n",
      "For first rectangle, output is ( 1 , 1) is False\n",
      "For second rectangle, output is   ( 1 , 1 ) is true\n"
     ]
    }
   ],
   "source": [
    "//Question 5 Answer\n",
    "\n",
    "Console.WriteLine(\"=============================\");\n",
    "Console.WriteLine(\"Output will be true if the given point lies in the rectangle else false\");\n",
    "Console.WriteLine(\"=============================\");\n",
    "Console.Write(\"For first rectangle, output is \");\n",
    "Console.WriteLine(inside(1,1,0.3,0.5,1.1,0.7));    \n",
    "Console.Write(\"For second rectangle, output is   \");\n",
    "Console.WriteLine(inside(1,1,0.5,0.2,1.1,2));    \n",
    "\n",
    "String inside(float x,float y,float x1,float y1,float x2,float y2)\n",
    " {\n",
    "     String result;\n",
    "     if((x>x1 && x<x2) && (y>y1 && y<y2))\n",
    "        result =\"True\";\n",
    "     \n",
    "     else \n",
    "        result =\"False\";\n",
    "    \n",
    "     return(result);\n",
    " }"
   ]
  },
  {
   "cell_type": "code",
   "execution_count": null,
   "id": "42306d5e",
   "metadata": {},
   "outputs": [],
   "source": []
  }
 ],
 "metadata": {
  "kernelspec": {
   "display_name": ".NET (C#)",
   "language": "C#",
   "name": ".net-csharp"
  },
  "language_info": {
   "file_extension": ".cs",
   "mimetype": "text/x-csharp",
   "name": "C#",
   "pygments_lexer": "csharp",
   "version": "11.0"
  }
 },
 "nbformat": 4,
 "nbformat_minor": 5
}
