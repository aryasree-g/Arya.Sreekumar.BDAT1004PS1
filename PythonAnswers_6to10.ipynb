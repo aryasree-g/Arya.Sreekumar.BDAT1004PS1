{
 "cells": [
  {
   "cell_type": "markdown",
   "id": "19455569",
   "metadata": {},
   "source": []
  },
  {
   "cell_type": "code",
   "execution_count": 39,
   "id": "57b2ece0",
   "metadata": {},
   "outputs": [
    {
     "name": "stdout",
     "output_type": "stream",
     "text": [
      "Enter the string: Happy\n",
      "appyhay\n"
     ]
    }
   ],
   "source": [
    "def pig(s):\n",
    "    vowelList = ['A','E','I','O','U','a','e','i','o','u'];\n",
    "    firstLetter = s[0];\n",
    "    if (firstLetter in vowelList):\n",
    "         return s + \"way\";\n",
    "    if (firstLetter not in vowelList):\n",
    "         return s[1:] + firstLetter + \"ay\"; \n",
    "   \n",
    "\n",
    "inputStr = input(\"Enter the string: \");\n",
    "strg = pig(inputStr);\n",
    "print(strg.lower());"
   ]
  },
  {
   "cell_type": "code",
   "execution_count": 24,
   "id": "e6627bf1",
   "metadata": {},
   "outputs": [
    {
     "name": "stdout",
     "output_type": "stream",
     "text": [
      "There are 15 patients of blood type A\n",
      "There are 1 patients of blood type B\n",
      "There are 13 patients of blood type AB\n",
      "There are 15 patients of blood type O\n",
      "There are 0 patients of blood type OO\n"
     ]
    }
   ],
   "source": [
    "def bldcount(bloodfile):\n",
    "    bld = bloodfile.readline()\n",
    "    cont = bld.split()\n",
    "    count_a = 0\n",
    "    count_b = 0\n",
    "    count_o = 0\n",
    "    count_ab = 0\n",
    "    count_oo = 0\n",
    "    for btype in cont:\n",
    "        if btype == 'A':\n",
    "            count_a += 1;\n",
    "        if btype == 'B':\n",
    "            count_b += 1;\n",
    "        if btype == 'AB':\n",
    "            count_ab += 1;\n",
    "        if btype == 'O':\n",
    "            count_o += 1;\n",
    "        if btype == 'OO':\n",
    "            count_oo += 1;\n",
    "    print(f'There are {count_a} patients of blood type A');\n",
    "    print(f'There are {count_b} patients of blood type B');\n",
    "    print(f'There are {count_ab} patients of blood type AB');\n",
    "    print(f'There are {count_o} patients of blood type O');\n",
    "    print(f'There are {count_oo} patients of blood type OO');\n",
    "bfile = open(\"bloodtype1.txt\")\n",
    "bldcount(bfile);"
   ]
  },
  {
   "cell_type": "code",
   "execution_count": 38,
   "id": "9fc31eac",
   "metadata": {},
   "outputs": [
    {
     "name": "stdout",
     "output_type": "stream",
     "text": [
      "Enter the currency: EUR\n",
      "Enter the amount: 100\n",
      "Amount in US dollars =  122.96544\n"
     ]
    }
   ],
   "source": [
    "def curconv(curr,amount,file):\n",
    "    for f in file:\n",
    "        amtval = float(f[4:13]);\n",
    "        curren = str(f[:3]);       \n",
    "        if curr == curren:\n",
    "            return amount * amtval;\n",
    "\n",
    "currency = input(\"Enter the currency: \");\n",
    "amount = int(input(\"Enter the amount: \"));\n",
    "currFile = open(\"currencies.txt\")\n",
    "c =currFile.readlines()\n",
    "dollars = curconv(currency, amount, c);\n",
    "print('Amount in US dollars = ', dollars);"
   ]
  },
  {
   "cell_type": "markdown",
   "id": "79d129cb",
   "metadata": {},
   "source": [
    "Trying to add incompatible variables, as in adding 6 + ‘a’  ---------------------------------------------------> TypeError\n",
    "Referring to the 12th item of a list that has only 10 items ---------------------------------------------------> Syntax Error\n",
    "Using a value that is out of range for a function’s input, such as calling math.sqrt(-1.0)  -------------------> ValueError\n",
    "Using an undeclared variable, such as print(x) when x has not been defined  -----------------------------------> Erroneous error\n",
    "Trying to open a file that does not exist, such as mistyping the file name or looking in the wrong directory -------> IO Error"
   ]
  },
  {
   "cell_type": "code",
   "execution_count": 42,
   "id": "f9077cd5",
   "metadata": {},
   "outputs": [
    {
     "name": "stdout",
     "output_type": "stream",
     "text": [
      "Enter the string: The quick red fox got bored and went home\n",
      "[1, 2, 5, 8, 1, 1, 1, 1, 1, 2, 3, 1, 4, 1, 1, 2, 1, 1, 2, 1, 1]\n"
     ]
    }
   ],
   "source": [
    "def frequencies(strg):\n",
    "    freq_dict = {s: strg.count(s) for s in strg};\n",
    "    freq_list = list(freq_dict.values());\n",
    "    return freq_list;\n",
    "str = input(\"Enter the string: \")\n",
    "occurrence = frequencies(str);\n",
    "print(occurrence);"
   ]
  },
  {
   "cell_type": "code",
   "execution_count": null,
   "id": "911e78cb",
   "metadata": {},
   "outputs": [],
   "source": []
  },
  {
   "cell_type": "code",
   "execution_count": null,
   "id": "e20e41c5",
   "metadata": {},
   "outputs": [],
   "source": []
  }
 ],
 "metadata": {
  "kernelspec": {
   "display_name": "Python 3 (ipykernel)",
   "language": "python",
   "name": "python3"
  },
  "language_info": {
   "codemirror_mode": {
    "name": "ipython",
    "version": 3
   },
   "file_extension": ".py",
   "mimetype": "text/x-python",
   "name": "python",
   "nbconvert_exporter": "python",
   "pygments_lexer": "ipython3",
   "version": "3.9.13"
  }
 },
 "nbformat": 4,
 "nbformat_minor": 5
}
